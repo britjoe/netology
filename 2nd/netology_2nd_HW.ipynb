{
  "cells":[
    {
      "cell_type":"markdown",
      "source":[
        "## Задание 1\n",
        "Дана переменная, в которой хранится слово из латинских букв. Напишите код, который выводит на экран:\n",
        "\n",
        "- среднюю букву, если число букв в слове нечетное;\n",
        "- две средних буквы, если число букв четное."
      ],
      "metadata":{
        
      }
    },
    {
      "cell_type":"code",
      "source":[
        "word = input()\n",
        "result = str()\n",
        "is_even = int(len(word) % 2)\n",
        "\n",
        "if is_even == 0:\n",
        "    result = word[(len(word) \/\/ 2 - 1):(len(word) \/\/ 2 + 1)]\n",
        "else:\n",
        "    result = word[len(word) \/\/ 2]\n",
        "print(result)"
      ],
      "execution_count":5,
      "outputs":[
        {
          "name":"stdout",
          "text":[
            " testy\n",
            "s\n"
          ],
          "output_type":"stream"
        }
      ],
      "metadata":{
        
      }
    },
    {
      "cell_type":"markdown",
      "source":[
        "## Задание 2\n",
        "Напишите программу, которая последовательно запрашивает у пользователя числа (по одному за раз) и после первого нуля выводит сумму всех ранее введенных чисел."
      ],
      "metadata":{
        
      }
    },
    {
      "cell_type":"code",
      "source":[
        "a = int(input('Введите число: '))\n",
        "summ = a\n",
        "while a != 0:\n",
        "    a = int(input('Введите число: '))\n",
        "    summ += a\n",
        "print(f'Результат: {summ}')"
      ],
      "execution_count":11,
      "outputs":[
        {
          "name":"stdout",
          "text":[
            "Введите число:  1\n",
            "Введите число:  2\n",
            "Введите число:  1\n",
            "Введите число:  4\n",
            "Введите число:  0\n",
            "Результат: 8\n"
          ],
          "output_type":"stream"
        }
      ],
      "metadata":{
        
      }
    },
    {
      "cell_type":"markdown",
      "source":[
        "## Задание 3\n",
        "Мы делаем MVP dating-сервиса, и у нас есть список парней и девушек.\n",
        "Выдвигаем гипотезу: лучшие рекомендации мы получим, если просто отсортируем имена по алфавиту и познакомим людей с одинаковыми индексами после сортировки! Но мы не будем никого знакомить, если кто-то может остаться без пары:"
      ],
      "metadata":{
        
      }
    },
    {
      "cell_type":"code",
      "source":[
        "boys = ['Peter', 'Alex', 'John', 'Arthur', 'Richard']\n",
        "girls = ['Kate', 'Liza', 'Kira', 'Emma', 'Trisha']\n",
        "\n",
        "boys.sort()\n",
        "girls.sort()\n",
        "\n",
        "if len(boys) != len(girls):\n",
        "    print('Внимание, кто-то может остаться без пары!')\n",
        "else:\n",
        "    print('Идеальные пары:')\n",
        "    for i in range(len(boys)):\n",
        "        print(f'{boys[i]} и {girls[i]}')"
      ],
      "execution_count":3,
      "outputs":[
        {
          "name":"stdout",
          "text":[
            "Идеальные пары:\n",
            "Alex и Emma\n",
            "Arthur и Kate\n",
            "John и Kira\n",
            "Peter и Liza\n",
            "Richard и Trisha\n"
          ],
          "output_type":"stream"
        }
      ],
      "metadata":{
        
      }
    },
    {
      "cell_type":"markdown",
      "source":[
        "## Задание 4\n",
        "У нас есть список, содержащий информацию о среднедневной температуре в Фаренгейтах за произвольный период по странам (структура данных в примере). Необходимо написать код, который рассчитает среднюю температуру за период в Цельсиях(!) для каждой страны."
      ],
      "metadata":{
        
      }
    },
    {
      "cell_type":"code",
      "source":[
        "countries_temperature = [\n",
        "    ['Thailand', [75.2, 77, 78.8, 73.4, 68, 75.2, 77]],\n",
        "    ['Germany', [57.2, 55.4, 59, 59, 53.6]],\n",
        "    ['Russia', [35.6, 37.4, 39.2, 41, 42.8, 39.2, 35.6]],\n",
        "    ['Poland', [50, 50, 53.6, 57.2, 55.4, 55.4]]\n",
        "]\n",
        "result = list()\n",
        "\n",
        "for i in countries_temperature:\n",
        "    countries_avg = list()\n",
        "    countries_avg.append(i[0])\n",
        "    sum_t = 0\n",
        "    for j in i[1]:\n",
        "        sum_t += j\n",
        "    avg_tf = sum_t \/ len(i[1])\n",
        "    avg_tc = (avg_tf - 32) * (5 \/ 9)\n",
        "    countries_avg.append(avg_tc)\n",
        "    result.append(countries_avg)\n",
        "\n",
        "for i in result:\n",
        "    print(f'{i[0]} - {round(i[1], 2)}')"
      ],
      "execution_count":18,
      "outputs":[
        {
          "name":"stdout",
          "text":[
            "Thailand - 23.86\n",
            "Germany - 13.8\n",
            "Russia - 3.71\n",
            "Poland - 12.0\n"
          ],
          "output_type":"stream"
        }
      ],
      "metadata":{
        
      }
    },
    {
      "cell_type":"markdown",
      "source":[
        "## Задание 5\n",
        "Дан поток логов по количеству просмотренных страниц для каждого пользователя. Вам необходимо написать алгоритм, который считает среднее значение просмотров на пользователя. Т. е. надо посчитать отношение суммы всех просмотров к количеству уникальных пользователей."
      ],
      "metadata":{
        
      }
    },
    {
      "cell_type":"code",
      "source":[
        "stream = [\n",
        "    '2018-01-01,user1,3',\n",
        "    '2018-01-07,user1,4',\n",
        "    '2018-03-29,user1,1',\n",
        "    '2018-04-04,user1,13',\n",
        "    '2018-01-05,user2,7',\n",
        "    '2018-06-14,user3,4',\n",
        "    '2018-07-02,user3,10',\n",
        "    '2018-03-21,user4,19',\n",
        "    '2018-03-22,user4,4',\n",
        "    '2018-04-22,user4,8',\n",
        "    '2018-05-03,user4,9',\n",
        "    '2018-05-11,user4,11',\n",
        "]\n",
        "\n",
        "new_stream = list()\n",
        "for i in stream:\n",
        "    user = i.split(',')\n",
        "    new_stream.append(user)\n",
        "\n",
        "users = set()\n",
        "views = int()\n",
        "\n",
        "for i in new_stream:\n",
        "    users.add(i[1])\n",
        "    views += int(i[2])\n",
        "\n",
        "result = round(views \/ len(users), 2)\n",
        "\n",
        "print(f'Среднее количество просмотров на уникального пользователя: {result}')"
      ],
      "execution_count":19,
      "outputs":[
        {
          "name":"stdout",
          "text":[
            "Среднее количество просмотров на уникального пользователя: 23.25\n"
          ],
          "output_type":"stream"
        }
      ],
      "metadata":{
        
      }
    },
    {
      "cell_type":"markdown",
      "source":[
        "## Задание 6 \n",
        "Необходимо у пользователя запрашивать набор чисел разделенных пробелом. В результате должны выводиться числа, которые повторяются в вводе более одного раза."
      ],
      "metadata":{
        
      }
    },
    {
      "cell_type":"code",
      "source":[
        "numbers = '1 1 3 2 2 2'\n",
        "\n",
        "numbers = numbers.split()\n",
        "numbers_and_counts = dict()\n",
        "for i in numbers:\n",
        "    if numbers_and_counts.get(i) is None:   \n",
        "        numbers_and_counts[i]  =  1\n",
        "    else:\n",
        "        numbers_and_counts[i] += 1\n",
        "        \n",
        "result = list()\n",
        "for i in numbers_and_counts:\n",
        "    if numbers_and_counts[i] > 1:\n",
        "        result.append(i)\n",
        "print(' '.join(result))"
      ],
      "execution_count":39,
      "outputs":[
        {
          "name":"stdout",
          "text":[
            "1 2\n"
          ],
          "output_type":"stream"
        }
      ],
      "metadata":{
        
      }
    }
  ],
  "metadata":{
    
  },
  "nbformat":4,
  "nbformat_minor":0
}