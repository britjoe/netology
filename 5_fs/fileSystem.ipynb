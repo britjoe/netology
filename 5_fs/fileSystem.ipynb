{
 "cells": [
  {
   "cell_type": "code",
   "execution_count": 2,
   "metadata": {
    "pycharm": {
     "name": "#%%\n"
    }
   },
   "outputs": [],
   "source": [
    "import json\n",
    "\n",
    "purch_dict = dict()\n",
    "with open('purchase_log.txt', 'r', encoding='UTF-8') as log:\n",
    "    headers_log = list(json.loads(log.readline().strip()).keys())\n",
    "    for line in log:\n",
    "        line = line.strip()\n",
    "        purch_dict[json.loads(line)[headers_log[0]]] = json.loads(line)[headers_log[1]]\n",
    "\n",
    "with open('visit_log.csv', 'r', encoding='UTF-8') as visit:\n",
    "    with open('funnel.csv', 'w', encoding='UTF-8') as fun:\n",
    "        for line in visit:\n",
    "            line = line.strip().split(',')\n",
    "            purchase = purch_dict.get(line[0])\n",
    "            if purchase:\n",
    "                line.append(purchase)\n",
    "                fun.write(', '.join(line) + '\\n')"
   ]
  },
  {
   "cell_type": "code",
   "execution_count": null,
   "metadata": {
    "pycharm": {
     "name": "#%%\n"
    }
   },
   "outputs": [],
   "source": []
  }
 ],
 "metadata": {
  "kernelspec": {
   "display_name": "Python 3",
   "language": "python",
   "name": "python3"
  },
  "language_info": {
   "codemirror_mode": {
    "name": "ipython",
    "version": 3
   },
   "file_extension": ".py",
   "mimetype": "text/x-python",
   "name": "python",
   "nbconvert_exporter": "python",
   "pygments_lexer": "ipython3",
   "version": "3.8.5"
  }
 },
 "nbformat": 4,
 "nbformat_minor": 4
}
