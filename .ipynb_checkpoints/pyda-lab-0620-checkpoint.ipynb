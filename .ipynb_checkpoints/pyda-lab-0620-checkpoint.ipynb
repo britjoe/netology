{
 "cells": [
  {
   "cell_type": "markdown",
   "metadata": {},
   "source": [
    "## Лабораторная работа по курсу «Python для анализа данных»"
   ]
  },
  {
   "cell_type": "markdown",
   "metadata": {},
   "source": [
    "### При выполнении работы допускается использование любых внешних модулей и пакетов."
   ]
  },
  {
   "cell_type": "markdown",
   "metadata": {},
   "source": [
    "#### Задача 1"
   ]
  },
  {
   "cell_type": "markdown",
   "metadata": {},
   "source": [
    "Дана строка:"
   ]
  },
  {
   "cell_type": "code",
   "execution_count": 98,
   "metadata": {},
   "outputs": [],
   "source": [
    "string_01 = \"History is always written by the winners. When two cultures clash, the loser is obliterated, and the winner writes the history books - books which glorify their own cause and disparage the conquered foe. As Napoleon once said, 'What is history, but a fable agreed upon?'\""
   ]
  },
  {
   "cell_type": "markdown",
   "metadata": {},
   "source": [
    "1. Посчитайте, сколько в строке символов, исключая пробелы:"
   ]
  },
  {
   "cell_type": "code",
   "execution_count": null,
   "metadata": {},
   "outputs": [],
   "source": []
  },
  {
   "cell_type": "markdown",
   "metadata": {},
   "source": [
    "2. Посчитайте, сколько в строке слов."
   ]
  },
  {
   "cell_type": "code",
   "execution_count": null,
   "metadata": {},
   "outputs": [],
   "source": []
  },
  {
   "cell_type": "markdown",
   "metadata": {},
   "source": [
    "3. Напишите функцию, которая будет принимать в качестве аргумента букву и выводить все слова из строки, начинающиеся на эту букву (например, “w”)."
   ]
  },
  {
   "cell_type": "code",
   "execution_count": null,
   "metadata": {},
   "outputs": [],
   "source": []
  },
  {
   "cell_type": "markdown",
   "metadata": {},
   "source": [
    "#### Задача 2"
   ]
  },
  {
   "cell_type": "markdown",
   "metadata": {},
   "source": [
    "Напишите код, который будет генерировать случайную последовательность из 6 цифр, одна из которых должна быть 3. Позиция цифры 3 должна\n",
    "определяться случайным образом. Результат должен быть строкой. Например: \"456309\" или \"330127\"."
   ]
  },
  {
   "cell_type": "code",
   "execution_count": 69,
   "metadata": {},
   "outputs": [
    {
     "name": "stdout",
     "output_type": "stream",
     "text": [
      "235719\n"
     ]
    }
   ],
   "source": [
    "import random as r\n",
    "result = [3]\n",
    "for i in range(5):\n",
    "    number = r.choice([1,2,3,4,5,6,7,8,9,0])\n",
    "    result.append(number)\n",
    "r.shuffle(result)   \n",
    "print(int(''.join(map(str, result))))"
   ]
  },
  {
   "cell_type": "markdown",
   "metadata": {},
   "source": [
    "#### Задача 3"
   ]
  },
  {
   "cell_type": "markdown",
   "metadata": {},
   "source": [
    "Дан список:"
   ]
  },
  {
   "cell_type": "code",
   "execution_count": 72,
   "metadata": {},
   "outputs": [],
   "source": [
    "list_01 = [1, 1, 2, 3, 5, 8, 13, 21, 34, 55, 89, 144, 233, 377, 610, 14, 46, 273, 22, 99, 15, 1000]"
   ]
  },
  {
   "cell_type": "markdown",
   "metadata": {},
   "source": [
    "Напишите алгоритм, который выводит число, равное сумме элементов списка, которые больше 10, но меньше 100, и которые больше 200, но меньше 500."
   ]
  },
  {
   "cell_type": "code",
   "execution_count": 77,
   "metadata": {},
   "outputs": [
    {
     "name": "stdout",
     "output_type": "stream",
     "text": [
      "1291\n"
     ]
    }
   ],
   "source": [
    "result = 0\n",
    "for i in list_01:\n",
    "    if i in range(10, 100) or i in range(200, 500):\n",
    "        result += i\n",
    "        \n",
    "print(result)"
   ]
  },
  {
   "cell_type": "markdown",
   "metadata": {},
   "source": [
    "#### Задача 4"
   ]
  },
  {
   "cell_type": "markdown",
   "metadata": {},
   "source": [
    "Данные студентов представлены в виде списка списков:"
   ]
  },
  {
   "cell_type": "code",
   "execution_count": 78,
   "metadata": {},
   "outputs": [],
   "source": [
    "students = [\n",
    "[\"0001\", \"Антонов\", \"Антон\", \"Игоревич\", \"20.08.2009\",\"БСТ161\"],\n",
    "[\"1102\", \"Богов\", \"Артем\", \"Игоревич\", \"25.01.2010\",\"БСТ162\"],\n",
    "[\"0333\", \"Глаголева\", \"Анастасия\", \"Николаевна\", \"11.07.2009\", \"БСТ163\"],\n",
    "[\"4004\", \"Степанова\", \"Наталья\", \"Александровна\", \"13.02.2008\", \"БСТ161\"],\n",
    "[\"0045\", \"Боков\", \"Игорь\", \"Харитонович\", \"02.06.2009\", \"БСТ161\"],\n",
    "[\"0096\", \"Васильков\", \"Валентин\", \"Сергеевич\", \"20.03.2009\", \"БСТ164\"],\n",
    "[\"0607\", \"Сиропова\", \"Виолетта\", \"Эдуардовна\", \"28.05.2010\", \"БСТ162\"]\n",
    "    ]"
   ]
  },
  {
   "cell_type": "markdown",
   "metadata": {},
   "source": [
    "1. Преобразуйте данные таким образом, чтобы они были представлены в виде словаря, в котором ключами являются номера студентов, а значениями — список из других данных о студентах."
   ]
  },
  {
   "cell_type": "code",
   "execution_count": 112,
   "metadata": {},
   "outputs": [
    {
     "name": "stdout",
     "output_type": "stream",
     "text": [
      "{'0001': ['Антонов', 'Антон', 'Игоревич', '20.08.2009', 'БСТ161'],\n",
      " '0045': ['Боков', 'Игорь', 'Харитонович', '02.06.2009', 'БСТ161'],\n",
      " '0096': ['Васильков', 'Валентин', 'Сергеевич', '20.03.2009', 'БСТ164'],\n",
      " '0333': ['Глаголева', 'Анастасия', 'Николаевна', '11.07.2009', 'БСТ163'],\n",
      " '0607': ['Сиропова', 'Виолетта', 'Эдуардовна', '28.05.2010', 'БСТ162'],\n",
      " '1102': ['Богов', 'Артем', 'Игоревич', '25.01.2010', 'БСТ162'],\n",
      " '4004': ['Степанова', 'Наталья', 'Александровна', '13.02.2008', 'БСТ161']}\n"
     ]
    }
   ],
   "source": [
    "import pprint as pp\n",
    "\n",
    "dict_result = dict()\n",
    "for stud_id, surname, name, sec_name, birth_date, group_num in students:\n",
    "    dict_result[stud_id] = [surname, name, sec_name, birth_date, group_num]\n",
    "    \n",
    "pp.pprint(dict_result)"
   ]
  },
  {
   "cell_type": "markdown",
   "metadata": {},
   "source": [
    "2. Напишите функцию, которая принимает в качестве аргумента номер студента и новый номер группы и позволяет изменить номер группы этого студента на новый внутри созданного словаря."
   ]
  },
  {
   "cell_type": "code",
   "execution_count": 114,
   "metadata": {},
   "outputs": [
    {
     "name": "stdout",
     "output_type": "stream",
     "text": [
      "{'0001': ['Антонов', 'Антон', 'Игоревич', '20.08.2009', '123'],\n",
      " '0045': ['Боков', 'Игорь', 'Харитонович', '02.06.2009', '123'],\n",
      " '0096': ['Васильков', 'Валентин', 'Сергеевич', '20.03.2009', 'БСТ164'],\n",
      " '0333': ['Глаголева', 'Анастасия', 'Николаевна', '11.07.2009', 'БСТ163'],\n",
      " '0607': ['Сиропова', 'Виолетта', 'Эдуардовна', '28.05.2010', 'БСТ162'],\n",
      " '1102': ['Богов', 'Артем', 'Игоревич', '25.01.2010', 'БСТ162'],\n",
      " '4004': ['Степанова', 'Наталья', 'Александровна', '13.02.2008', 'БСТ161']}\n"
     ]
    }
   ],
   "source": [
    "def change_group_number(p_stud_id, p_new_group_num):\n",
    "    stud_info = dict_result[p_stud_id]\n",
    "    stud_info.pop()\n",
    "    stud_info.append(p_new_group_num)\n",
    "    dict_result[p_stud_id] = stud_info\n",
    "    \n",
    "change_group_number('0001', '123')\n",
    "pp.pprint(dict_result)   "
   ]
  },
  {
   "cell_type": "markdown",
   "metadata": {},
   "source": [
    "3. Напишите функцию, которая принимает номер группы и выводит список (фамилии, имена, отчества) всех студентов этой группы. Необходимо обращаться к словарю."
   ]
  },
  {
   "cell_type": "code",
   "execution_count": 115,
   "metadata": {},
   "outputs": [
    {
     "name": "stdout",
     "output_type": "stream",
     "text": [
      "['Антонов Антон Игоревич', 'Боков Игорь Харитонович']\n"
     ]
    }
   ],
   "source": [
    "def get_student_from_group(p_group_num):\n",
    "    student_list = list()\n",
    "    for i in dict_result:\n",
    "        if dict_result[i][-1] == p_group_num:\n",
    "            student_list.append(f'{dict_result[i][0]} {dict_result[i][1]} {dict_result[i][2]}')\n",
    "    return student_list\n",
    "\n",
    "\n",
    "print(get_student_from_group('123'))\n",
    "    "
   ]
  },
  {
   "cell_type": "markdown",
   "metadata": {},
   "source": [
    "#### Задача 5"
   ]
  },
  {
   "cell_type": "markdown",
   "metadata": {},
   "source": [
    "Дана матрица:"
   ]
  },
  {
   "cell_type": "code",
   "execution_count": 116,
   "metadata": {},
   "outputs": [],
   "source": [
    "matrix = [ \n",
    "    [0,1,2,4,8], \n",
    "    [6,2,2,1,9], \n",
    "    [3,3,3,3,3], \n",
    "    [4,6,7,1,2], \n",
    "    [5,7,3,4,0] \n",
    "]"
   ]
  },
  {
   "cell_type": "markdown",
   "metadata": {},
   "source": [
    "1. Выведите результат сложения всех элементов матрицы."
   ]
  },
  {
   "cell_type": "code",
   "execution_count": 120,
   "metadata": {},
   "outputs": [
    {
     "name": "stdout",
     "output_type": "stream",
     "text": [
      "89\n"
     ]
    }
   ],
   "source": [
    "matrix_len = len(matrix)\n",
    "total_sum = 0\n",
    "for i in matrix:\n",
    "    row_sum = sum(i)\n",
    "    total_sum += row_sum\n",
    "print(b)"
   ]
  },
  {
   "cell_type": "markdown",
   "metadata": {},
   "source": [
    "2. Напишите алгоритм вычисления максимума из сумм элементов каждого столбца."
   ]
  },
  {
   "cell_type": "code",
   "execution_count": 128,
   "metadata": {},
   "outputs": [
    {
     "name": "stdout",
     "output_type": "stream",
     "text": [
      "9\n"
     ]
    }
   ],
   "source": [
    "result = set()\n",
    "for i in matrix:\n",
    "    for j in i:\n",
    "        result.add(j)\n",
    "\n",
    "print(max(result))\n",
    "        "
   ]
  }
 ],
 "metadata": {
  "kernelspec": {
   "display_name": "Python 3",
   "language": "python",
   "name": "python3"
  },
  "language_info": {
   "codemirror_mode": {
    "name": "ipython",
    "version": 3
   },
   "file_extension": ".py",
   "mimetype": "text/x-python",
   "name": "python",
   "nbconvert_exporter": "python",
   "pygments_lexer": "ipython3",
   "version": "3.8.5"
  }
 },
 "nbformat": 4,
 "nbformat_minor": 2
}
