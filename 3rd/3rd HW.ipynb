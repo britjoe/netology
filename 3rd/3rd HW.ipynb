{
  "cells":[
    {
      "cell_type":"markdown",
      "source":[
        "## Задание 1\n",
        "Дана переменная, в которой хранится словарь, содержащий гео-метки для каждого пользователя (пример структуры данных приведен ниже). Вам необходимо написать программу, которая выведет на экран множество уникальных гео-меток всех пользователей."
      ],
      "metadata":{
        
      }
    },
    {
      "cell_type":"code",
      "source":[
        "ids = {'user1': [213, 213, 213, 15, 213],\n",
        "       'user2': [54, 54, 119, 119, 119],\n",
        "       'user3': [213, 98, 98, 35]}\n",
        "unique_geop = set()\n",
        "\n",
        "for i in ids:\n",
        "    for j in ids[i]:\n",
        "        unique_geop.add(j)\n",
        "\n",
        "print(unique_geop)"
      ],
      "execution_count":4,
      "outputs":[
        {
          "name":"stdout",
          "text":[
            "{98, 35, 15, 213, 54, 119}\n"
          ],
          "output_type":"stream"
        }
      ],
      "metadata":{
        
      }
    },
    {
      "cell_type":"markdown",
      "source":[
        "## Задание 2\n",
        "Дана переменная, в которой хранится список поисковых запросов пользователя. Вам необходимо написать программу, которая выведет на экран распределение количества слов в запросах в требуемом виде."
      ],
      "metadata":{
        
      }
    },
    {
      "cell_type":"code",
      "source":[
        "queries = [\n",
        "    'смотреть сериалы онлайн',\n",
        "    'новости спорта',\n",
        "    'афиша кино',\n",
        "    'курс доллара',\n",
        "    'сериалы этим летом',\n",
        "    'курс по питону',\n",
        "    'сериалы про спорт',\n",
        "]\n",
        "\n",
        "analyse_dict = dict()\n",
        "\n",
        "for i in queries:\n",
        "    if analyse_dict.get(len(i.split())) is None:\n",
        "        analyse_dict[len(i.split())] = 1\n",
        "    else:\n",
        "        analyse_dict[len(i.split())] += 1\n",
        "\n",
        "analyse_dict_sorted = dict(sorted(analyse_dict.items(), key=lambda item: item[1]))\n",
        "## на мой взгляд она тут не нужна, но в примерах данные отсортированны\n",
        "\n",
        "total_words_quantity = len(queries)\n",
        "for i in analyse_dict_sorted:\n",
        "    result = round((analyse_dict_sorted[i] \/ total_words_quantity) * 100, 2)\n",
        "    print(f'Поисковых запросов, содержащих {i} слов(а): {result}%')"
      ],
      "execution_count":3,
      "outputs":[
        {
          "name":"stdout",
          "text":[
            "Поисковых запросов, содержащих 2 слов(а): 42.86%\n",
            "Поисковых запросов, содержащих 3 слов(а): 57.14%\n"
          ],
          "output_type":"stream"
        }
      ],
      "metadata":{
        
      }
    },
    {
      "cell_type":"markdown",
      "source":[
        "## Задание 3\n",
        "Дана переменная, в которой хранится информация о затратах и доходе рекламных кампаний по различным источникам. Необходимо дополнить исходную структуру показателем ROI, который рассчитаем по формуле: (revenue \/ cost - 1) * 100"
      ],
      "metadata":{
        
      }
    },
    {
      "cell_type":"code",
      "source":[
        "results = {\n",
        "    'vk': {'revenue': 103, 'cost': 98},\n",
        "    'yandex': {'revenue': 179, 'cost': 153},\n",
        "    'facebook': {'revenue': 103, 'cost': 110},\n",
        "    'adwords': {'revenue': 35, 'cost': 34},\n",
        "    'twitter': {'revenue': 11, 'cost': 24},\n",
        "}\n",
        "\n",
        "for i in results:\n",
        "    ROI = round((results[i]['revenue'] \/ results[i]['cost'] - 1) * 100, 2)\n",
        "    results[i]['ROI'] = ROI\n",
        "## я не стал сортировать по алфавиту, так как в задании этого не требуется\n",
        "\n",
        "print(results)"
      ],
      "execution_count":2,
      "outputs":[
        {
          "name":"stdout",
          "text":[
            "{'vk': {'revenue': 103, 'cost': 98, 'ROI': 5.1}, 'yandex': {'revenue': 179, 'cost': 153, 'ROI': 16.99}, 'facebook': {'revenue': 103, 'cost': 110, 'ROI': -6.36}, 'adwords': {'revenue': 35, 'cost': 34, 'ROI': 2.94}, 'twitter': {'revenue': 11, 'cost': 24, 'ROI': -54.17}}\n"
          ],
          "output_type":"stream"
        }
      ],
      "metadata":{
        
      }
    },
    {
      "cell_type":"markdown",
      "source":[
        "## Задание 4\n",
        "Дана переменная, в которой хранится статистика рекламных каналов по объемам продаж. Напишите программу, которая возвращает название канала с максимальным объемом продаж."
      ],
      "metadata":{
        
      }
    },
    {
      "cell_type":"code",
      "source":[
        "stats = {'facebook': 55,\n",
        "         'yandex': 115,\n",
        "         'vk': 120,\n",
        "         'google': 120,\n",
        "         'email': 42,\n",
        "         'ok': 98}\n",
        "\n",
        "max_value = 0\n",
        "\n",
        "for i in stats:\n",
        "    if max_value < stats[i]:\n",
        "        max_value = stats[i]\n",
        "\n",
        "## обработка случая, если таких каналов больше одного\n",
        "channel_list = []\n",
        "for channel, values in stats.items():\n",
        "    if max_value == values:\n",
        "        channel_list.append(channel)\n",
        "print(f' Максимальный объем продаж на рекламном канале: {\", \".join(channel_list)}')"
      ],
      "execution_count":1,
      "outputs":[
        {
          "name":"stdout",
          "text":[
            " Максимальный объем продаж на рекламном канале: vk, google\n"
          ],
          "output_type":"stream"
        }
      ],
      "metadata":{
        
      }
    },
    {
      "cell_type":"markdown",
      "source":[
        "## Задание 5 (необязательно)\n",
        "Дан список произвольной длины. Необходимо написать код, который на основе исходного списка составит словарь такого уровня вложенности, какова длина исхондого списка."
      ],
      "metadata":{
        
      }
    },
    {
      "cell_type":"code",
      "source":[
        
      ],
      "execution_count":0,
      "outputs":[
        
      ],
      "metadata":{
        
      }
    },
    {
      "cell_type":"markdown",
      "source":[
        "## Задание 6 (необязательно)\n",
        "Дана книга рецептов с информацией о том, сколько ингредиентов нужно для приготовления блюда в расчете на одну порцию.\n",
        "Напишите программу, которая будет запрашивать у пользователя количество порций для приготовления этих блюд и отображать информацию о суммарном количестве требуемых ингредиентов в указанном виде."
      ],
      "metadata":{
        
      }
    },
    {
      "cell_type":"code",
      "source":[
        
      ],
      "execution_count":0,
      "outputs":[
        
      ],
      "metadata":{
        
      }
    }
  ],
  "metadata":{
    
  },
  "nbformat":4,
  "nbformat_minor":0
}