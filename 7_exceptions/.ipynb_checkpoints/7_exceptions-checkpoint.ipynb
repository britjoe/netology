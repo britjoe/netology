{
 "cells": [
  {
   "cell_type": "code",
   "execution_count": 9,
   "metadata": {},
   "outputs": [
    {
     "name": "stdout",
     "output_type": "stream",
     "text": [
      "2002-10-02 00:00:00 2013-10-11 00:00:00 1977-08-18 00:00:00\n"
     ]
    }
   ],
   "source": [
    "from datetime import datetime, timedelta\n",
    "\n",
    "moscow_times = 'Wednesday, October 2, 2002'\n",
    "guardian = 'Friday, 11.10.13'\n",
    "daily_news = 'Thursday, 18 August 1977'\n",
    "moscow_times = datetime.strptime(moscow_times, '%A, %B %d, %Y')\n",
    "guardian = datetime.strptime(guardian, '%A, %d.%m.%y')\n",
    "daily_news = datetime.strptime(daily_news, '%A, %d %B %Y')\n",
    "\n",
    "print(moscow_times, guardian, daily_news)"
   ]
  },
  {
   "cell_type": "code",
   "execution_count": 10,
   "metadata": {},
   "outputs": [
    {
     "name": "stdout",
     "output_type": "stream",
     "text": [
      "True\n",
      "False\n",
      "False\n"
     ]
    }
   ],
   "source": [
    "def check_date(date):\n",
    "    try:\n",
    "        date = datetime.strptime(date, '%Y-%m-%d')\n",
    "        return True\n",
    "    except:\n",
    "        return False\n",
    "    \n",
    "    \n",
    "stream = ['2018-04-02', '2018-02-29', '2018-19-02']\n",
    "\n",
    "\n",
    "for i in stream:\n",
    "    print(check_date(i))"
   ]
  },
  {
   "cell_type": "code",
   "execution_count": 17,
   "metadata": {},
   "outputs": [
    {
     "name": "stdout",
     "output_type": "stream",
     "text": [
      "[]\n"
     ]
    }
   ],
   "source": [
    "def date_range(start_date, end_date):\n",
    "    date_list = []\n",
    "    if check_date(start_date) and check_date(end_date):\n",
    "        start_date = datetime.strptime(start_date, '%Y-%m-%d')\n",
    "        end_date = datetime.strptime(end_date, '%Y-%m-%d')\n",
    "        cnt_days = (end_date - start_date).days\n",
    "        if cnt_days <= 0:\n",
    "            return date_list\n",
    "        for i in range(cnt_days - 1):  ## - 1 для невключения последней даты\n",
    "            new_date = start_date + timedelta(days=i + 1)  ## + 1 для невключения первой даты\n",
    "            date_list.append(datetime.strftime(new_date, '%Y-%m-%d'))\n",
    "        return date_list\n",
    "    else:\n",
    "        return date_list\n",
    "\n",
    "\n",
    "start_date = '2021-02-30'\n",
    "end_date = '2021-02-31'\n",
    "\n",
    "print(date_range(start_date, end_date))"
   ]
  }
 ],
 "metadata": {
  "kernelspec": {
   "display_name": "Python 3",
   "language": "python",
   "name": "python3"
  },
  "language_info": {
   "codemirror_mode": {
    "name": "ipython",
    "version": 3
   },
   "file_extension": ".py",
   "mimetype": "text/x-python",
   "name": "python",
   "nbconvert_exporter": "python",
   "pygments_lexer": "ipython3",
   "version": "3.8.5"
  }
 },
 "nbformat": 4,
 "nbformat_minor": 4
}
