{
 "cells": [
  {
   "cell_type": "markdown",
   "metadata": {},
   "source": [
    "Задание №1"
   ]
  },
  {
   "cell_type": "code",
   "execution_count": 1,
   "metadata": {
    "scrolled": true
   },
   "outputs": [
    {
     "name": "stdout",
     "output_type": "stream",
     "text": [
      "sasdasd\n",
      "asdasd\n",
      "Фраза 1 длиннее фразы 2\n"
     ]
    }
   ],
   "source": [
    "phrase_1 = input()\n",
    "phrase_2 = input()\n",
    "\n",
    "if len(phrase_1) > len(phrase_2):\n",
    "    print('Фраза 1 длиннее фразы 2')\n",
    "elif len(phrase_1) < len(phrase_2):\n",
    "    print('Фраза 2 длиннее фразы 1')\n",
    "else:\n",
    "    print('Фразы равной длины')\n"
   ]
  },
  {
   "cell_type": "markdown",
   "metadata": {},
   "source": [
    "Задание №2"
   ]
  },
  {
   "cell_type": "code",
   "execution_count": 1,
   "metadata": {},
   "outputs": [
    {
     "name": "stdout",
     "output_type": "stream",
     "text": [
      "1700\n",
      "Обычный год\n"
     ]
    }
   ],
   "source": [
    "year = int(input())\n",
    "result = \"Обычный год\"\n",
    "if year % 4 == 0:\n",
    "    if year % 100 == 0:\n",
    "        if year % 400 == 0:\n",
    "            result = 'Високосный год'\n",
    "print(result)"
   ]
  },
  {
   "cell_type": "markdown",
   "metadata": {},
   "source": [
    "Задание №3"
   ]
  },
  {
   "cell_type": "code",
   "execution_count": 4,
   "metadata": {
    "scrolled": true
   },
   "outputs": [
    {
     "name": "stdout",
     "output_type": "stream",
     "text": [
      "Введите день:\n",
      "14\n",
      "Введите месяц:\n",
      "Декабрь\n",
      "Ваш знак зодиака: Стрелец\n"
     ]
    }
   ],
   "source": [
    "print('Введите день:')\n",
    "day = input().zfill(2)\n",
    "\n",
    "print('Введите месяц:')\n",
    "month = input()\n",
    "\n",
    "zodiac = str()\n",
    "\n",
    "month_dict = {\n",
    "    'Январь': '01',\n",
    "    'Февраль': '02',\n",
    "    'Март': '03',\n",
    "    'Апрель': '04',\n",
    "    'Май': '05',\n",
    "    'Июнь': '06',\n",
    "    'Июль': '07',\n",
    "    'Август': '08',\n",
    "    'Сентябрь': '09',\n",
    "    'Октбярь': '10',\n",
    "    'Ноябрь': '11',\n",
    "    'Декабрь': '12'\n",
    "}\n",
    "date = month_dict.get(month) + day\n",
    "if date <= '0119':\n",
    "    zodiac = 'Козерог'\n",
    "elif date <= '0218':\n",
    "    zodiac = 'Водолей'\n",
    "elif date <= '0320':\n",
    "    zodiac = 'Рыбы'\n",
    "elif date <= '0419':\n",
    "    zodiac = 'Овен'\n",
    "elif date <= '0520':\n",
    "    zodiac = 'Телец'\n",
    "elif date <= '0620':\n",
    "    zodiac = 'Близнецы'\n",
    "elif date <= '0722':\n",
    "    zodiac = 'Рак'\n",
    "elif date <= '0822':\n",
    "    zodiac = 'Лев'\n",
    "elif date <= '0922':\n",
    "    zodiac = 'Дева'\n",
    "elif date <= '1022':\n",
    "    zodiac = 'Весы'\n",
    "elif date <= '1121':\n",
    "    zodiac = 'Скорпион'\n",
    "elif date <= '1221':\n",
    "    zodiac = 'Стрелец'\n",
    "else:\n",
    "    zodiac = 'Козерог'\n",
    "print('Ваш знак зодиака: ' + zodiac)\n"
   ]
  },
  {
   "cell_type": "markdown",
   "metadata": {},
   "source": [
    "Задание №4"
   ]
  },
  {
   "cell_type": "code",
   "execution_count": null,
   "metadata": {},
   "outputs": [],
   "source": [
    "width = int(input('Ширина: '))\n",
    "length = int(input('Длина: '))\n",
    "height = int(input('Высота: '))\n",
    "result = 'Стандартная коробка №3'\n",
    "if width < 15 and length < 15 and height < 15:\n",
    "    result = 'Коробка №1'\n",
    "elif width < 50 and length < 50 and height < 50:\n",
    "    result = 'Коробка №2'\n",
    "elif length >= 200:\n",
    "    result = 'Упаковка для лыж'\n",
    "\n",
    "print(result)\n"
   ]
  },
  {
   "cell_type": "markdown",
   "metadata": {},
   "source": [
    "Задание №5"
   ]
  },
  {
   "cell_type": "code",
   "execution_count": null,
   "metadata": {},
   "outputs": [],
   "source": [
    "number = input()\n",
    "sum1 = 0\n",
    "sum2 = 0\n",
    "for i in range(len(number)):\n",
    "    if i < 3:\n",
    "        sum1 += int(number[i])\n",
    "    else:\n",
    "        sum2 += int(number[i])\n",
    "\n",
    "if sum1 == sum2:\n",
    "    print('Счастливый билет')\n",
    "else:\n",
    "    print('Неасчастливый билет')\n"
   ]
  },
  {
   "cell_type": "markdown",
   "metadata": {},
   "source": [
    "Задание №6"
   ]
  },
  {
   "cell_type": "code",
   "execution_count": null,
   "metadata": {},
   "outputs": [],
   "source": [
    "import math\n",
    "\n",
    "shapesDict = {\n",
    "    'Круг': 1,\n",
    "    'Треугольник': 2,\n",
    "    'Прямоугольник': 3\n",
    "}\n",
    "\n",
    "roundArea = int()\n",
    "triArea = int()\n",
    "rectArea = int()\n",
    "\n",
    "print('Введите тип фигуры:')\n",
    "shape = input()\n",
    "\n",
    "if shapesDict.get(shape) == 1:\n",
    "    print('Введите радиус круга:')\n",
    "    radius = int(input())\n",
    "    roundArea = round(math.pi * radius * radius, 2)\n",
    "    print(f'Площадь круга: {roundArea}')\n",
    "elif shapesDict.get(shape) == 2:\n",
    "    print('Введите длину стороны A:')\n",
    "    triA = int(input())\n",
    "    print('Введите длину стороны B:')\n",
    "    triB = int(input())\n",
    "    print('Введите длину стороны C:')\n",
    "    triC = int(input())\n",
    "    halfPer = (triA + triB + triC) / 2\n",
    "    triArea = round((halfPer * (halfPer - triA) * (halfPer - triB) * (halfPer - triC)) ** 0.5, 2)\n",
    "    print(f'Площадь треугольника: {triArea}')\n",
    "elif shapesDict.get(shape) == 3:\n",
    "    print('Введите длину стороны A:')\n",
    "    rectA = int(input())\n",
    "    print('Введите длину стороны B:')\n",
    "    rectB = int(input())\n",
    "    rectArea = rectA * rectB\n",
    "    print(f'Площадь прямоугольника: {rectArea}')\n"
   ]
  }
 ],
 "metadata": {
  "kernelspec": {
   "display_name": "Python 3",
   "language": "python",
   "name": "python3"
  },
  "language_info": {
   "codemirror_mode": {
    "name": "ipython",
    "version": 3
   },
   "file_extension": ".py",
   "mimetype": "text/x-python",
   "name": "python",
   "nbconvert_exporter": "python",
   "pygments_lexer": "ipython3",
   "version": "3.8.5"
  }
 },
 "nbformat": 4,
 "nbformat_minor": 4
}
