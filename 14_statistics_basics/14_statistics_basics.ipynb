{
 "cells": [
  {
   "cell_type": "code",
   "execution_count": 102,
   "metadata": {},
   "outputs": [],
   "source": [
    "import pandas as pd"
   ]
  },
  {
   "cell_type": "code",
   "execution_count": 103,
   "metadata": {},
   "outputs": [
    {
     "data": {
      "text/plain": "   surgery  Age  rectal_temperature  pulse  respiratory_rate  \\\n0      2.0    1                38.5   66.0              28.0   \n1      1.0    1                39.2   88.0              20.0   \n2      2.0    1                38.3   40.0              24.0   \n3      1.0    9                39.1  164.0              84.0   \n4      2.0    1                37.3  104.0              35.0   \n\n   temperature_of_extremities  pain  outcome  \n0                         3.0   5.0      2.0  \n1                         NaN   3.0      3.0  \n2                         1.0   3.0      1.0  \n3                         4.0   2.0      2.0  \n4                         NaN   NaN      2.0  ",
      "text/html": "<div>\n<style scoped>\n    .dataframe tbody tr th:only-of-type {\n        vertical-align: middle;\n    }\n\n    .dataframe tbody tr th {\n        vertical-align: top;\n    }\n\n    .dataframe thead th {\n        text-align: right;\n    }\n</style>\n<table border=\"1\" class=\"dataframe\">\n  <thead>\n    <tr style=\"text-align: right;\">\n      <th></th>\n      <th>surgery</th>\n      <th>Age</th>\n      <th>rectal_temperature</th>\n      <th>pulse</th>\n      <th>respiratory_rate</th>\n      <th>temperature_of_extremities</th>\n      <th>pain</th>\n      <th>outcome</th>\n    </tr>\n  </thead>\n  <tbody>\n    <tr>\n      <th>0</th>\n      <td>2.0</td>\n      <td>1</td>\n      <td>38.5</td>\n      <td>66.0</td>\n      <td>28.0</td>\n      <td>3.0</td>\n      <td>5.0</td>\n      <td>2.0</td>\n    </tr>\n    <tr>\n      <th>1</th>\n      <td>1.0</td>\n      <td>1</td>\n      <td>39.2</td>\n      <td>88.0</td>\n      <td>20.0</td>\n      <td>NaN</td>\n      <td>3.0</td>\n      <td>3.0</td>\n    </tr>\n    <tr>\n      <th>2</th>\n      <td>2.0</td>\n      <td>1</td>\n      <td>38.3</td>\n      <td>40.0</td>\n      <td>24.0</td>\n      <td>1.0</td>\n      <td>3.0</td>\n      <td>1.0</td>\n    </tr>\n    <tr>\n      <th>3</th>\n      <td>1.0</td>\n      <td>9</td>\n      <td>39.1</td>\n      <td>164.0</td>\n      <td>84.0</td>\n      <td>4.0</td>\n      <td>2.0</td>\n      <td>2.0</td>\n    </tr>\n    <tr>\n      <th>4</th>\n      <td>2.0</td>\n      <td>1</td>\n      <td>37.3</td>\n      <td>104.0</td>\n      <td>35.0</td>\n      <td>NaN</td>\n      <td>NaN</td>\n      <td>2.0</td>\n    </tr>\n  </tbody>\n</table>\n</div>"
     },
     "execution_count": 103,
     "metadata": {},
     "output_type": "execute_result"
    }
   ],
   "source": [
    "df_inp = pd.read_csv('horse_data.csv',\n",
    "                     names=['surgery', 'Age', 't3', 'rectal_temperature', 'pulse',\n",
    "                            'respiratory_rate', 'temperature_of_extremities', 't8', 't9', 't10',\n",
    "                            'pain', 't12', 't13', 't14', 't15',\n",
    "                            't16', 't17', 't18', 't19', 't20',\n",
    "                            't21', 't22', 'outcome', 't24', 't25',\n",
    "                            't26', 't27', 't28'], na_values='?')\n",
    "df = df_inp[['surgery', 'Age', 'rectal_temperature', 'pulse', 'respiratory_rate',\n",
    "             'temperature_of_extremities', 'pain', 'outcome']]\n",
    "df.head()"
   ]
  },
  {
   "cell_type": "code",
   "execution_count": 104,
   "metadata": {},
   "outputs": [
    {
     "name": "stdout",
     "output_type": "stream",
     "text": [
      "<class 'pandas.core.frame.DataFrame'>\n",
      "RangeIndex: 300 entries, 0 to 299\n",
      "Data columns (total 8 columns):\n",
      " #   Column                      Non-Null Count  Dtype  \n",
      "---  ------                      --------------  -----  \n",
      " 0   surgery                     299 non-null    float64\n",
      " 1   Age                         300 non-null    int64  \n",
      " 2   rectal_temperature          240 non-null    float64\n",
      " 3   pulse                       276 non-null    float64\n",
      " 4   respiratory_rate            242 non-null    float64\n",
      " 5   temperature_of_extremities  244 non-null    float64\n",
      " 6   pain                        245 non-null    float64\n",
      " 7   outcome                     299 non-null    float64\n",
      "dtypes: float64(7), int64(1)\n",
      "memory usage: 18.9 KB\n"
     ]
    }
   ],
   "source": [
    "df.info()"
   ]
  },
  {
   "cell_type": "markdown",
   "metadata": {},
   "source": [
    "## Задание 2"
   ]
  },
  {
   "cell_type": "code",
   "execution_count": 105,
   "metadata": {},
   "outputs": [
    {
     "data": {
      "text/plain": "          surgery         Age  rectal_temperature       pulse  \\\ncount  299.000000  300.000000          240.000000  276.000000   \nmean     1.397993    1.640000           38.167917   71.913043   \nstd      0.490305    2.173972            0.732289   28.630557   \nmin      1.000000    1.000000           35.400000   30.000000   \n25%      1.000000    1.000000           37.800000   48.000000   \n50%      1.000000    1.000000           38.200000   64.000000   \n75%      2.000000    1.000000           38.500000   88.000000   \nmax      2.000000    9.000000           40.800000  184.000000   \n\n       respiratory_rate  temperature_of_extremities       pain     outcome  \ncount        242.000000                  244.000000  245.00000  299.000000  \nmean          30.417355                    2.348361    2.95102    1.551839  \nstd           17.642231                    1.045054    1.30794    0.737187  \nmin            8.000000                    1.000000    1.00000    1.000000  \n25%           18.500000                    1.000000    2.00000    1.000000  \n50%           24.500000                    3.000000    3.00000    1.000000  \n75%           36.000000                    3.000000    4.00000    2.000000  \nmax           96.000000                    4.000000    5.00000    3.000000  ",
      "text/html": "<div>\n<style scoped>\n    .dataframe tbody tr th:only-of-type {\n        vertical-align: middle;\n    }\n\n    .dataframe tbody tr th {\n        vertical-align: top;\n    }\n\n    .dataframe thead th {\n        text-align: right;\n    }\n</style>\n<table border=\"1\" class=\"dataframe\">\n  <thead>\n    <tr style=\"text-align: right;\">\n      <th></th>\n      <th>surgery</th>\n      <th>Age</th>\n      <th>rectal_temperature</th>\n      <th>pulse</th>\n      <th>respiratory_rate</th>\n      <th>temperature_of_extremities</th>\n      <th>pain</th>\n      <th>outcome</th>\n    </tr>\n  </thead>\n  <tbody>\n    <tr>\n      <th>count</th>\n      <td>299.000000</td>\n      <td>300.000000</td>\n      <td>240.000000</td>\n      <td>276.000000</td>\n      <td>242.000000</td>\n      <td>244.000000</td>\n      <td>245.00000</td>\n      <td>299.000000</td>\n    </tr>\n    <tr>\n      <th>mean</th>\n      <td>1.397993</td>\n      <td>1.640000</td>\n      <td>38.167917</td>\n      <td>71.913043</td>\n      <td>30.417355</td>\n      <td>2.348361</td>\n      <td>2.95102</td>\n      <td>1.551839</td>\n    </tr>\n    <tr>\n      <th>std</th>\n      <td>0.490305</td>\n      <td>2.173972</td>\n      <td>0.732289</td>\n      <td>28.630557</td>\n      <td>17.642231</td>\n      <td>1.045054</td>\n      <td>1.30794</td>\n      <td>0.737187</td>\n    </tr>\n    <tr>\n      <th>min</th>\n      <td>1.000000</td>\n      <td>1.000000</td>\n      <td>35.400000</td>\n      <td>30.000000</td>\n      <td>8.000000</td>\n      <td>1.000000</td>\n      <td>1.00000</td>\n      <td>1.000000</td>\n    </tr>\n    <tr>\n      <th>25%</th>\n      <td>1.000000</td>\n      <td>1.000000</td>\n      <td>37.800000</td>\n      <td>48.000000</td>\n      <td>18.500000</td>\n      <td>1.000000</td>\n      <td>2.00000</td>\n      <td>1.000000</td>\n    </tr>\n    <tr>\n      <th>50%</th>\n      <td>1.000000</td>\n      <td>1.000000</td>\n      <td>38.200000</td>\n      <td>64.000000</td>\n      <td>24.500000</td>\n      <td>3.000000</td>\n      <td>3.00000</td>\n      <td>1.000000</td>\n    </tr>\n    <tr>\n      <th>75%</th>\n      <td>2.000000</td>\n      <td>1.000000</td>\n      <td>38.500000</td>\n      <td>88.000000</td>\n      <td>36.000000</td>\n      <td>3.000000</td>\n      <td>4.00000</td>\n      <td>2.000000</td>\n    </tr>\n    <tr>\n      <th>max</th>\n      <td>2.000000</td>\n      <td>9.000000</td>\n      <td>40.800000</td>\n      <td>184.000000</td>\n      <td>96.000000</td>\n      <td>4.000000</td>\n      <td>5.00000</td>\n      <td>3.000000</td>\n    </tr>\n  </tbody>\n</table>\n</div>"
     },
     "execution_count": 105,
     "metadata": {},
     "output_type": "execute_result"
    }
   ],
   "source": [
    "df[['surgery', 'Age', 'rectal_temperature', 'pulse', 'respiratory_rate',\n",
    "    'temperature_of_extremities', 'pain', 'outcome']].describe()"
   ]
  },
  {
   "cell_type": "code",
   "execution_count": 106,
   "metadata": {},
   "outputs": [
    {
     "name": "stdout",
     "output_type": "stream",
     "text": [
      "71.91304347826087\n",
      "64.0\n",
      "48.0\n",
      "28.630556660735003\n",
      "819.7087747035575\n"
     ]
    }
   ],
   "source": [
    "print(df['pulse'].mean())\n",
    "print(df['pulse'].median())\n",
    "print(df['pulse'].mode()[0])\n",
    "print(df['pulse'].std())\n",
    "print(df['pulse'].var())"
   ]
  },
  {
   "cell_type": "code",
   "execution_count": 107,
   "metadata": {},
   "outputs": [
    {
     "data": {
      "text/plain": "     surgery  Age  rectal_temperature  pulse  respiratory_rate  \\\n113      1.0    1                36.8   60.0              28.0   \n277      2.0    1                36.9   50.0              40.0   \n70       2.0    1                37.0   60.0              20.0   \n292      1.0    1                37.0   66.0              20.0   \n190      1.0    1                37.1   40.0               8.0   \n\n     temperature_of_extremities  pain  outcome  \n113                         NaN   NaN      2.0  \n277                         2.0   1.0      1.0  \n70                          3.0   3.0      3.0  \n292                         1.0   4.0      2.0  \n190                         NaN   3.0      1.0  ",
      "text/html": "<div>\n<style scoped>\n    .dataframe tbody tr th:only-of-type {\n        vertical-align: middle;\n    }\n\n    .dataframe tbody tr th {\n        vertical-align: top;\n    }\n\n    .dataframe thead th {\n        text-align: right;\n    }\n</style>\n<table border=\"1\" class=\"dataframe\">\n  <thead>\n    <tr style=\"text-align: right;\">\n      <th></th>\n      <th>surgery</th>\n      <th>Age</th>\n      <th>rectal_temperature</th>\n      <th>pulse</th>\n      <th>respiratory_rate</th>\n      <th>temperature_of_extremities</th>\n      <th>pain</th>\n      <th>outcome</th>\n    </tr>\n  </thead>\n  <tbody>\n    <tr>\n      <th>113</th>\n      <td>1.0</td>\n      <td>1</td>\n      <td>36.8</td>\n      <td>60.0</td>\n      <td>28.0</td>\n      <td>NaN</td>\n      <td>NaN</td>\n      <td>2.0</td>\n    </tr>\n    <tr>\n      <th>277</th>\n      <td>2.0</td>\n      <td>1</td>\n      <td>36.9</td>\n      <td>50.0</td>\n      <td>40.0</td>\n      <td>2.0</td>\n      <td>1.0</td>\n      <td>1.0</td>\n    </tr>\n    <tr>\n      <th>70</th>\n      <td>2.0</td>\n      <td>1</td>\n      <td>37.0</td>\n      <td>60.0</td>\n      <td>20.0</td>\n      <td>3.0</td>\n      <td>3.0</td>\n      <td>3.0</td>\n    </tr>\n    <tr>\n      <th>292</th>\n      <td>1.0</td>\n      <td>1</td>\n      <td>37.0</td>\n      <td>66.0</td>\n      <td>20.0</td>\n      <td>1.0</td>\n      <td>4.0</td>\n      <td>2.0</td>\n    </tr>\n    <tr>\n      <th>190</th>\n      <td>1.0</td>\n      <td>1</td>\n      <td>37.1</td>\n      <td>40.0</td>\n      <td>8.0</td>\n      <td>NaN</td>\n      <td>3.0</td>\n      <td>1.0</td>\n    </tr>\n  </tbody>\n</table>\n</div>"
     },
     "execution_count": 107,
     "metadata": {},
     "output_type": "execute_result"
    }
   ],
   "source": [
    "q1 = df['rectal_temperature'].quantile(0.25)\n",
    "q3 = df['rectal_temperature'].quantile(0.75)\n",
    "iqr = q3 - q1\n",
    "lower_bound = q1 - (1.5 * iqr)\n",
    "upper_bound = q3 + (1.5 * iqr)\n",
    "remove_outliers = df[df['rectal_temperature'].between(lower_bound, upper_bound, inclusive=True)].sort_values(\n",
    "    'rectal_temperature')\n",
    "remove_outliers.head()"
   ]
  },
  {
   "cell_type": "code",
   "execution_count": 108,
   "metadata": {
    "scrolled": true
   },
   "outputs": [
    {
     "data": {
      "text/plain": "     surgery  Age  rectal_temperature  pulse  respiratory_rate  \\\n5        2.0    1                 NaN    NaN               NaN   \n7        1.0    1                 NaN   60.0               NaN   \n8        2.0    1                 NaN   80.0              36.0   \n16       1.0    9                 NaN  128.0              36.0   \n20       1.0    1                39.9   72.0              60.0   \n..       ...  ...                 ...    ...               ...   \n274      1.0    1                 NaN   76.0               NaN   \n281      2.0    1                40.0   78.0               NaN   \n293      1.0    1                 NaN   78.0              24.0   \n295      1.0    1                 NaN  120.0              70.0   \n298      1.0    1                36.5  100.0              24.0   \n\n     temperature_of_extremities  pain  outcome  \n5                           2.0   2.0      1.0  \n7                           3.0   NaN      2.0  \n8                           3.0   4.0      3.0  \n16                          3.0   4.0      2.0  \n20                          1.0   5.0      1.0  \n..                          ...   ...      ...  \n274                         NaN   NaN      3.0  \n281                         3.0   2.0      2.0  \n293                         3.0   NaN      3.0  \n295                         4.0   2.0      3.0  \n298                         3.0   3.0      1.0  \n\n[61 rows x 8 columns]",
      "text/html": "<div>\n<style scoped>\n    .dataframe tbody tr th:only-of-type {\n        vertical-align: middle;\n    }\n\n    .dataframe tbody tr th {\n        vertical-align: top;\n    }\n\n    .dataframe thead th {\n        text-align: right;\n    }\n</style>\n<table border=\"1\" class=\"dataframe\">\n  <thead>\n    <tr style=\"text-align: right;\">\n      <th></th>\n      <th>surgery</th>\n      <th>Age</th>\n      <th>rectal_temperature</th>\n      <th>pulse</th>\n      <th>respiratory_rate</th>\n      <th>temperature_of_extremities</th>\n      <th>pain</th>\n      <th>outcome</th>\n    </tr>\n  </thead>\n  <tbody>\n    <tr>\n      <th>5</th>\n      <td>2.0</td>\n      <td>1</td>\n      <td>NaN</td>\n      <td>NaN</td>\n      <td>NaN</td>\n      <td>2.0</td>\n      <td>2.0</td>\n      <td>1.0</td>\n    </tr>\n    <tr>\n      <th>7</th>\n      <td>1.0</td>\n      <td>1</td>\n      <td>NaN</td>\n      <td>60.0</td>\n      <td>NaN</td>\n      <td>3.0</td>\n      <td>NaN</td>\n      <td>2.0</td>\n    </tr>\n    <tr>\n      <th>8</th>\n      <td>2.0</td>\n      <td>1</td>\n      <td>NaN</td>\n      <td>80.0</td>\n      <td>36.0</td>\n      <td>3.0</td>\n      <td>4.0</td>\n      <td>3.0</td>\n    </tr>\n    <tr>\n      <th>16</th>\n      <td>1.0</td>\n      <td>9</td>\n      <td>NaN</td>\n      <td>128.0</td>\n      <td>36.0</td>\n      <td>3.0</td>\n      <td>4.0</td>\n      <td>2.0</td>\n    </tr>\n    <tr>\n      <th>20</th>\n      <td>1.0</td>\n      <td>1</td>\n      <td>39.9</td>\n      <td>72.0</td>\n      <td>60.0</td>\n      <td>1.0</td>\n      <td>5.0</td>\n      <td>1.0</td>\n    </tr>\n    <tr>\n      <th>...</th>\n      <td>...</td>\n      <td>...</td>\n      <td>...</td>\n      <td>...</td>\n      <td>...</td>\n      <td>...</td>\n      <td>...</td>\n      <td>...</td>\n    </tr>\n    <tr>\n      <th>274</th>\n      <td>1.0</td>\n      <td>1</td>\n      <td>NaN</td>\n      <td>76.0</td>\n      <td>NaN</td>\n      <td>NaN</td>\n      <td>NaN</td>\n      <td>3.0</td>\n    </tr>\n    <tr>\n      <th>281</th>\n      <td>2.0</td>\n      <td>1</td>\n      <td>40.0</td>\n      <td>78.0</td>\n      <td>NaN</td>\n      <td>3.0</td>\n      <td>2.0</td>\n      <td>2.0</td>\n    </tr>\n    <tr>\n      <th>293</th>\n      <td>1.0</td>\n      <td>1</td>\n      <td>NaN</td>\n      <td>78.0</td>\n      <td>24.0</td>\n      <td>3.0</td>\n      <td>NaN</td>\n      <td>3.0</td>\n    </tr>\n    <tr>\n      <th>295</th>\n      <td>1.0</td>\n      <td>1</td>\n      <td>NaN</td>\n      <td>120.0</td>\n      <td>70.0</td>\n      <td>4.0</td>\n      <td>2.0</td>\n      <td>3.0</td>\n    </tr>\n    <tr>\n      <th>298</th>\n      <td>1.0</td>\n      <td>1</td>\n      <td>36.5</td>\n      <td>100.0</td>\n      <td>24.0</td>\n      <td>3.0</td>\n      <td>3.0</td>\n      <td>1.0</td>\n    </tr>\n  </tbody>\n</table>\n<p>61 rows × 8 columns</p>\n</div>"
     },
     "execution_count": 108,
     "metadata": {},
     "output_type": "execute_result"
    }
   ],
   "source": [
    "##Выбросы\n",
    "pd.concat([df, remove_outliers]).drop_duplicates(keep=False)"
   ]
  },
  {
   "cell_type": "markdown",
   "metadata": {},
   "source": [
    "## Задание 3"
   ]
  },
  {
   "cell_type": "code",
   "execution_count": 109,
   "outputs": [
    {
     "data": {
      "text/plain": "   surgery  Age  rectal_temperature  pulse  respiratory_rate  \\\n0      2.0    1                38.5   66.0              28.0   \n1      1.0    1                39.2   88.0              20.0   \n2      2.0    1                38.3   40.0              24.0   \n3      1.0    9                39.1  164.0              84.0   \n4      2.0    1                37.3  104.0              35.0   \n\n   temperature_of_extremities  pain  outcome  \n0                         3.0   5.0      2.0  \n1                         NaN   3.0      3.0  \n2                         1.0   3.0      1.0  \n3                         4.0   2.0      2.0  \n4                         NaN   NaN      2.0  ",
      "text/html": "<div>\n<style scoped>\n    .dataframe tbody tr th:only-of-type {\n        vertical-align: middle;\n    }\n\n    .dataframe tbody tr th {\n        vertical-align: top;\n    }\n\n    .dataframe thead th {\n        text-align: right;\n    }\n</style>\n<table border=\"1\" class=\"dataframe\">\n  <thead>\n    <tr style=\"text-align: right;\">\n      <th></th>\n      <th>surgery</th>\n      <th>Age</th>\n      <th>rectal_temperature</th>\n      <th>pulse</th>\n      <th>respiratory_rate</th>\n      <th>temperature_of_extremities</th>\n      <th>pain</th>\n      <th>outcome</th>\n    </tr>\n  </thead>\n  <tbody>\n    <tr>\n      <th>0</th>\n      <td>2.0</td>\n      <td>1</td>\n      <td>38.5</td>\n      <td>66.0</td>\n      <td>28.0</td>\n      <td>3.0</td>\n      <td>5.0</td>\n      <td>2.0</td>\n    </tr>\n    <tr>\n      <th>1</th>\n      <td>1.0</td>\n      <td>1</td>\n      <td>39.2</td>\n      <td>88.0</td>\n      <td>20.0</td>\n      <td>NaN</td>\n      <td>3.0</td>\n      <td>3.0</td>\n    </tr>\n    <tr>\n      <th>2</th>\n      <td>2.0</td>\n      <td>1</td>\n      <td>38.3</td>\n      <td>40.0</td>\n      <td>24.0</td>\n      <td>1.0</td>\n      <td>3.0</td>\n      <td>1.0</td>\n    </tr>\n    <tr>\n      <th>3</th>\n      <td>1.0</td>\n      <td>9</td>\n      <td>39.1</td>\n      <td>164.0</td>\n      <td>84.0</td>\n      <td>4.0</td>\n      <td>2.0</td>\n      <td>2.0</td>\n    </tr>\n    <tr>\n      <th>4</th>\n      <td>2.0</td>\n      <td>1</td>\n      <td>37.3</td>\n      <td>104.0</td>\n      <td>35.0</td>\n      <td>NaN</td>\n      <td>NaN</td>\n      <td>2.0</td>\n    </tr>\n  </tbody>\n</table>\n</div>"
     },
     "execution_count": 109,
     "metadata": {},
     "output_type": "execute_result"
    }
   ],
   "source": [
    "df_inp = pd.read_csv('horse_data.csv',\n",
    "                     names=['surgery', 'Age', 't3', 'rectal_temperature', 'pulse',\n",
    "                            'respiratory_rate', 'temperature_of_extremities', 't8', 't9', 't10',\n",
    "                            'pain', 't12', 't13', 't14', 't15',\n",
    "                            't16', 't17', 't18', 't19', 't20',\n",
    "                            't21', 't22', 'outcome', 't24', 't25',\n",
    "                            't26', 't27', 't28'],\n",
    "                     na_values='?')\n",
    "df = df_inp[['surgery', 'Age', 'rectal_temperature', 'pulse', 'respiratory_rate',\n",
    "             'temperature_of_extremities', 'pain', 'outcome']]\n",
    "df.head()"
   ],
   "metadata": {
    "collapsed": false,
    "pycharm": {
     "name": "#%%\n"
    }
   }
  },
  {
   "cell_type": "code",
   "execution_count": 110,
   "outputs": [
    {
     "name": "stdout",
     "output_type": "stream",
     "text": [
      "count    240.000000\n",
      "mean      38.167917\n",
      "std        0.732289\n",
      "min       35.400000\n",
      "25%       37.800000\n",
      "50%       38.200000\n",
      "75%       38.500000\n",
      "max       40.800000\n",
      "Name: rectal_temperature, dtype: float64\n"
     ]
    }
   ],
   "source": [
    "print(df['rectal_temperature'].describe())"
   ],
   "metadata": {
    "collapsed": false,
    "pycharm": {
     "name": "#%%\n"
    }
   }
  },
  {
   "cell_type": "code",
   "execution_count": 111,
   "outputs": [
    {
     "data": {
      "text/plain": "surgery                        0.33\nAge                            0.00\nrectal_temperature            20.00\npulse                          8.00\nrespiratory_rate              19.33\ntemperature_of_extremities    18.67\npain                          18.33\noutcome                        0.33\ndtype: float64"
     },
     "execution_count": 111,
     "metadata": {},
     "output_type": "execute_result"
    }
   ],
   "source": [
    "(df.isna().mean() * 100).round(2)"
   ],
   "metadata": {
    "collapsed": false,
    "pycharm": {
     "name": "#%%\n"
    }
   }
  },
  {
   "cell_type": "code",
   "execution_count": 112,
   "metadata": {},
   "outputs": [
    {
     "name": "stdout",
     "output_type": "stream",
     "text": [
      "<class 'pandas.core.frame.DataFrame'>\n",
      "RangeIndex: 300 entries, 0 to 299\n",
      "Data columns (total 8 columns):\n",
      " #   Column                      Non-Null Count  Dtype  \n",
      "---  ------                      --------------  -----  \n",
      " 0   surgery                     299 non-null    float64\n",
      " 1   Age                         300 non-null    int64  \n",
      " 2   rectal_temperature          240 non-null    float64\n",
      " 3   pulse                       276 non-null    float64\n",
      " 4   respiratory_rate            242 non-null    float64\n",
      " 5   temperature_of_extremities  244 non-null    float64\n",
      " 6   pain                        245 non-null    float64\n",
      " 7   outcome                     299 non-null    float64\n",
      "dtypes: float64(7), int64(1)\n",
      "memory usage: 18.9 KB\n"
     ]
    }
   ],
   "source": [
    "df.info()"
   ]
  },
  {
   "cell_type": "code",
   "execution_count": 113,
   "outputs": [
    {
     "name": "stderr",
     "output_type": "stream",
     "text": [
      "C:\\Users\\ruayup\\Anaconda3\\lib\\site-packages\\pandas\\core\\series.py:4517: SettingWithCopyWarning: \n",
      "A value is trying to be set on a copy of a slice from a DataFrame\n",
      "\n",
      "See the caveats in the documentation: https://pandas.pydata.org/pandas-docs/stable/user_guide/indexing.html#returning-a-view-versus-a-copy\n",
      "  return super().fillna(\n"
     ]
    },
    {
     "data": {
      "text/plain": "   surgery  Age  rectal_temperature  pulse  respiratory_rate  \\\n0      2.0    1                38.5   66.0              28.0   \n1      1.0    1                39.2   88.0              20.0   \n2      2.0    1                38.3   40.0              24.0   \n3      1.0    9                39.1  164.0              84.0   \n4      2.0    1                37.3  104.0              35.0   \n\n   temperature_of_extremities  pain  outcome  \n0                         3.0   5.0      2.0  \n1                         NaN   3.0      3.0  \n2                         1.0   3.0      1.0  \n3                         4.0   2.0      2.0  \n4                         NaN   3.0      2.0  ",
      "text/html": "<div>\n<style scoped>\n    .dataframe tbody tr th:only-of-type {\n        vertical-align: middle;\n    }\n\n    .dataframe tbody tr th {\n        vertical-align: top;\n    }\n\n    .dataframe thead th {\n        text-align: right;\n    }\n</style>\n<table border=\"1\" class=\"dataframe\">\n  <thead>\n    <tr style=\"text-align: right;\">\n      <th></th>\n      <th>surgery</th>\n      <th>Age</th>\n      <th>rectal_temperature</th>\n      <th>pulse</th>\n      <th>respiratory_rate</th>\n      <th>temperature_of_extremities</th>\n      <th>pain</th>\n      <th>outcome</th>\n    </tr>\n  </thead>\n  <tbody>\n    <tr>\n      <th>0</th>\n      <td>2.0</td>\n      <td>1</td>\n      <td>38.5</td>\n      <td>66.0</td>\n      <td>28.0</td>\n      <td>3.0</td>\n      <td>5.0</td>\n      <td>2.0</td>\n    </tr>\n    <tr>\n      <th>1</th>\n      <td>1.0</td>\n      <td>1</td>\n      <td>39.2</td>\n      <td>88.0</td>\n      <td>20.0</td>\n      <td>NaN</td>\n      <td>3.0</td>\n      <td>3.0</td>\n    </tr>\n    <tr>\n      <th>2</th>\n      <td>2.0</td>\n      <td>1</td>\n      <td>38.3</td>\n      <td>40.0</td>\n      <td>24.0</td>\n      <td>1.0</td>\n      <td>3.0</td>\n      <td>1.0</td>\n    </tr>\n    <tr>\n      <th>3</th>\n      <td>1.0</td>\n      <td>9</td>\n      <td>39.1</td>\n      <td>164.0</td>\n      <td>84.0</td>\n      <td>4.0</td>\n      <td>2.0</td>\n      <td>2.0</td>\n    </tr>\n    <tr>\n      <th>4</th>\n      <td>2.0</td>\n      <td>1</td>\n      <td>37.3</td>\n      <td>104.0</td>\n      <td>35.0</td>\n      <td>NaN</td>\n      <td>3.0</td>\n      <td>2.0</td>\n    </tr>\n  </tbody>\n</table>\n</div>"
     },
     "execution_count": 113,
     "metadata": {},
     "output_type": "execute_result"
    }
   ],
   "source": [
    "df['rectal_temperature'].fillna(df['rectal_temperature'].median(), inplace=True)\n",
    "df['surgery'].fillna(df['surgery'].mode()[0], inplace=True)\n",
    "df['respiratory_rate'].fillna(df['respiratory_rate'].median(), inplace=True)\n",
    "df['pulse'].fillna(df['pulse'].median(), inplace=True)\n",
    "df['outcome'].fillna(df['outcome'].mode()[0], inplace=True)\n",
    "df['pain'].fillna(df['pain'].mode()[0], inplace=True)\n",
    "df.head()"
   ],
   "metadata": {
    "collapsed": false,
    "pycharm": {
     "name": "#%%\n"
    }
   }
  },
  {
   "cell_type": "code",
   "execution_count": 114,
   "outputs": [
    {
     "name": "stderr",
     "output_type": "stream",
     "text": [
      "<ipython-input-114-8bdfd957f936>:1: SettingWithCopyWarning: \n",
      "A value is trying to be set on a copy of a slice from a DataFrame.\n",
      "Try using .loc[row_indexer,col_indexer] = value instead\n",
      "\n",
      "See the caveats in the documentation: https://pandas.pydata.org/pandas-docs/stable/user_guide/indexing.html#returning-a-view-versus-a-copy\n",
      "  df['temp_rank'] = pd.qcut(df['rectal_temperature'], q=4, labels=False)\n"
     ]
    },
    {
     "data": {
      "text/plain": "   surgery  Age  rectal_temperature  pulse  respiratory_rate  \\\n0      2.0    1                38.5   66.0              28.0   \n1      1.0    1                39.2   88.0              20.0   \n2      2.0    1                38.3   40.0              24.0   \n3      1.0    9                39.1  164.0              84.0   \n4      2.0    1                37.3  104.0              35.0   \n\n   temperature_of_extremities  pain  outcome  temp_rank  \n0                         3.0   5.0      2.0          2  \n1                         NaN   3.0      3.0          3  \n2                         1.0   3.0      1.0          2  \n3                         4.0   2.0      2.0          3  \n4                         NaN   3.0      2.0          0  ",
      "text/html": "<div>\n<style scoped>\n    .dataframe tbody tr th:only-of-type {\n        vertical-align: middle;\n    }\n\n    .dataframe tbody tr th {\n        vertical-align: top;\n    }\n\n    .dataframe thead th {\n        text-align: right;\n    }\n</style>\n<table border=\"1\" class=\"dataframe\">\n  <thead>\n    <tr style=\"text-align: right;\">\n      <th></th>\n      <th>surgery</th>\n      <th>Age</th>\n      <th>rectal_temperature</th>\n      <th>pulse</th>\n      <th>respiratory_rate</th>\n      <th>temperature_of_extremities</th>\n      <th>pain</th>\n      <th>outcome</th>\n      <th>temp_rank</th>\n    </tr>\n  </thead>\n  <tbody>\n    <tr>\n      <th>0</th>\n      <td>2.0</td>\n      <td>1</td>\n      <td>38.5</td>\n      <td>66.0</td>\n      <td>28.0</td>\n      <td>3.0</td>\n      <td>5.0</td>\n      <td>2.0</td>\n      <td>2</td>\n    </tr>\n    <tr>\n      <th>1</th>\n      <td>1.0</td>\n      <td>1</td>\n      <td>39.2</td>\n      <td>88.0</td>\n      <td>20.0</td>\n      <td>NaN</td>\n      <td>3.0</td>\n      <td>3.0</td>\n      <td>3</td>\n    </tr>\n    <tr>\n      <th>2</th>\n      <td>2.0</td>\n      <td>1</td>\n      <td>38.3</td>\n      <td>40.0</td>\n      <td>24.0</td>\n      <td>1.0</td>\n      <td>3.0</td>\n      <td>1.0</td>\n      <td>2</td>\n    </tr>\n    <tr>\n      <th>3</th>\n      <td>1.0</td>\n      <td>9</td>\n      <td>39.1</td>\n      <td>164.0</td>\n      <td>84.0</td>\n      <td>4.0</td>\n      <td>2.0</td>\n      <td>2.0</td>\n      <td>3</td>\n    </tr>\n    <tr>\n      <th>4</th>\n      <td>2.0</td>\n      <td>1</td>\n      <td>37.3</td>\n      <td>104.0</td>\n      <td>35.0</td>\n      <td>NaN</td>\n      <td>3.0</td>\n      <td>2.0</td>\n      <td>0</td>\n    </tr>\n  </tbody>\n</table>\n</div>"
     },
     "execution_count": 114,
     "metadata": {},
     "output_type": "execute_result"
    }
   ],
   "source": [
    "df['temp_rank'] = pd.qcut(df['rectal_temperature'], q=4, labels=False)\n",
    "df.head()"
   ],
   "metadata": {
    "collapsed": false,
    "pycharm": {
     "name": "#%%\n"
    }
   }
  },
  {
   "cell_type": "code",
   "execution_count": 115,
   "outputs": [
    {
     "name": "stdout",
     "output_type": "stream",
     "text": [
      "temp_rank\n",
      "0    2.0\n",
      "1    3.0\n",
      "2    3.0\n",
      "3    3.0\n",
      "Name: temperature_of_extremities, dtype: float64\n"
     ]
    }
   ],
   "source": [
    "print(df.groupby('temp_rank')['temperature_of_extremities'].median())"
   ],
   "metadata": {
    "collapsed": false,
    "pycharm": {
     "name": "#%%\n"
    }
   }
  },
  {
   "cell_type": "code",
   "execution_count": 116,
   "outputs": [
    {
     "name": "stderr",
     "output_type": "stream",
     "text": [
      "C:\\Users\\ruayup\\Anaconda3\\lib\\site-packages\\pandas\\core\\series.py:4517: SettingWithCopyWarning: \n",
      "A value is trying to be set on a copy of a slice from a DataFrame\n",
      "\n",
      "See the caveats in the documentation: https://pandas.pydata.org/pandas-docs/stable/user_guide/indexing.html#returning-a-view-versus-a-copy\n",
      "  return super().fillna(\n"
     ]
    },
    {
     "data": {
      "text/plain": "   surgery  Age  rectal_temperature  pulse  respiratory_rate  \\\n0      2.0    1                38.5   66.0              28.0   \n1      1.0    1                39.2   88.0              20.0   \n2      2.0    1                38.3   40.0              24.0   \n3      1.0    9                39.1  164.0              84.0   \n4      2.0    1                37.3  104.0              35.0   \n\n   temperature_of_extremities  pain  outcome  temp_rank  \n0                         3.0   5.0      2.0          2  \n1                         3.0   3.0      3.0          3  \n2                         1.0   3.0      1.0          2  \n3                         4.0   2.0      2.0          3  \n4                         2.0   3.0      2.0          0  ",
      "text/html": "<div>\n<style scoped>\n    .dataframe tbody tr th:only-of-type {\n        vertical-align: middle;\n    }\n\n    .dataframe tbody tr th {\n        vertical-align: top;\n    }\n\n    .dataframe thead th {\n        text-align: right;\n    }\n</style>\n<table border=\"1\" class=\"dataframe\">\n  <thead>\n    <tr style=\"text-align: right;\">\n      <th></th>\n      <th>surgery</th>\n      <th>Age</th>\n      <th>rectal_temperature</th>\n      <th>pulse</th>\n      <th>respiratory_rate</th>\n      <th>temperature_of_extremities</th>\n      <th>pain</th>\n      <th>outcome</th>\n      <th>temp_rank</th>\n    </tr>\n  </thead>\n  <tbody>\n    <tr>\n      <th>0</th>\n      <td>2.0</td>\n      <td>1</td>\n      <td>38.5</td>\n      <td>66.0</td>\n      <td>28.0</td>\n      <td>3.0</td>\n      <td>5.0</td>\n      <td>2.0</td>\n      <td>2</td>\n    </tr>\n    <tr>\n      <th>1</th>\n      <td>1.0</td>\n      <td>1</td>\n      <td>39.2</td>\n      <td>88.0</td>\n      <td>20.0</td>\n      <td>3.0</td>\n      <td>3.0</td>\n      <td>3.0</td>\n      <td>3</td>\n    </tr>\n    <tr>\n      <th>2</th>\n      <td>2.0</td>\n      <td>1</td>\n      <td>38.3</td>\n      <td>40.0</td>\n      <td>24.0</td>\n      <td>1.0</td>\n      <td>3.0</td>\n      <td>1.0</td>\n      <td>2</td>\n    </tr>\n    <tr>\n      <th>3</th>\n      <td>1.0</td>\n      <td>9</td>\n      <td>39.1</td>\n      <td>164.0</td>\n      <td>84.0</td>\n      <td>4.0</td>\n      <td>2.0</td>\n      <td>2.0</td>\n      <td>3</td>\n    </tr>\n    <tr>\n      <th>4</th>\n      <td>2.0</td>\n      <td>1</td>\n      <td>37.3</td>\n      <td>104.0</td>\n      <td>35.0</td>\n      <td>2.0</td>\n      <td>3.0</td>\n      <td>2.0</td>\n      <td>0</td>\n    </tr>\n  </tbody>\n</table>\n</div>"
     },
     "execution_count": 116,
     "metadata": {},
     "output_type": "execute_result"
    }
   ],
   "source": [
    "df['temperature_of_extremities'].fillna(df.groupby('temp_rank')['temperature_of_extremities'].transform('median'), inplace=True)\n",
    "df.head()"
   ],
   "metadata": {
    "collapsed": false,
    "pycharm": {
     "name": "#%%\n"
    }
   }
  },
  {
   "cell_type": "code",
   "execution_count": 117,
   "outputs": [
    {
     "name": "stdout",
     "output_type": "stream",
     "text": [
      "<class 'pandas.core.frame.DataFrame'>\n",
      "RangeIndex: 300 entries, 0 to 299\n",
      "Data columns (total 9 columns):\n",
      " #   Column                      Non-Null Count  Dtype  \n",
      "---  ------                      --------------  -----  \n",
      " 0   surgery                     300 non-null    float64\n",
      " 1   Age                         300 non-null    int64  \n",
      " 2   rectal_temperature          300 non-null    float64\n",
      " 3   pulse                       300 non-null    float64\n",
      " 4   respiratory_rate            300 non-null    float64\n",
      " 5   temperature_of_extremities  300 non-null    float64\n",
      " 6   pain                        300 non-null    float64\n",
      " 7   outcome                     300 non-null    float64\n",
      " 8   temp_rank                   300 non-null    int64  \n",
      "dtypes: float64(7), int64(2)\n",
      "memory usage: 21.2 KB\n"
     ]
    }
   ],
   "source": [
    "df.info()"
   ],
   "metadata": {
    "collapsed": false,
    "pycharm": {
     "name": "#%%\n"
    }
   }
  }
 ],
 "metadata": {
  "kernelspec": {
   "display_name": "Python 3",
   "language": "python",
   "name": "python3"
  },
  "language_info": {
   "codemirror_mode": {
    "name": "ipython",
    "version": 3
   },
   "file_extension": ".py",
   "mimetype": "text/x-python",
   "name": "python",
   "nbconvert_exporter": "python",
   "pygments_lexer": "ipython3",
   "version": "3.8.5"
  }
 },
 "nbformat": 4,
 "nbformat_minor": 4
}