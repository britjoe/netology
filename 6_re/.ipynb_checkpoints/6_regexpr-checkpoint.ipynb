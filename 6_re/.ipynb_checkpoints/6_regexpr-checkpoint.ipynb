{
 "cells": [
  {
   "cell_type": "code",
   "execution_count": null,
   "metadata": {},
   "outputs": [],
   "source": [
    "import re\n",
    "\n",
    "\n",
    "def car_number_check(car_num):\n",
    "    pattern = r'^([АВЕКМНОРСТУХABEKMHOPCTYX]{1}\\d{3}[АВЕКМНОРСТУХABEKMHOPCTYX]{2})(\\d{2,3})$'\n",
    "    result = re.findall(pattern, car_num)\n",
    "    return result\n",
    "\n",
    "\n",
    "def delete_dublicates(string):\n",
    "    pattern = r'(?!\\S)(\\s\\w+)(?=\\s)\\1+'\n",
    "    result = re.sub(pattern, r'\\1', string)\n",
    "    return result\n",
    "\n",
    "\n",
    "def make_acronym(string):\n",
    "    pattern = r\"(?<!\\S)\\w\"\n",
    "    result = ''.join(re.findall(pattern, string)).upper()\n",
    "    return result\n",
    "\n",
    "\n",
    "def count_domains(list_of_emails):\n",
    "    domains = list(map(lambda item: re.search(r'(?!@)\\w+\\.\\w+', item).group(), list_of_emails))\n",
    "    domains_count = dict()\n",
    "    for i in set(domains):\n",
    "        domains_count[i] = domains.count(i)\n",
    "    return domains_count"
   ]
  },
  {
   "cell_type": "markdown",
   "metadata": {},
   "source": [
    "## Задание 1"
   ]
  },
  {
   "cell_type": "code",
   "execution_count": null,
   "metadata": {},
   "outputs": [],
   "source": [
    "car_num = 'АБ22ВВ193'\n",
    "car_num_checked = car_number_check(car_num)\n",
    "\n",
    "if car_num_checked:\n",
    "    print(f\"Номер {car_num_checked[0][0]} валиден. Регион: {car_num_checked[0][1]}\")\n",
    "else:\n",
    "    print(\"Номер не валиден\")\n"
   ]
  },
  {
   "cell_type": "markdown",
   "metadata": {},
   "source": [
    "## Задание 2"
   ]
  },
  {
   "cell_type": "code",
   "execution_count": null,
   "metadata": {},
   "outputs": [],
   "source": [
    "some_string = 'Напишите функцию функцию, которая будет будет будет будет удалять все все все все последовательные ' \\\n",
    "              'повторы слов из из из из заданной строки строки при помощи регулярных выражений. '\n",
    "\n",
    "print(delete_dublicates(some_string))"
   ]
  },
  {
   "cell_type": "markdown",
   "metadata": {},
   "source": [
    "## Задание 3"
   ]
  },
  {
   "cell_type": "code",
   "execution_count": null,
   "metadata": {},
   "outputs": [],
   "source": [
    "print(make_acronym('Python is cool'))"
   ]
  },
  {
   "cell_type": "markdown",
   "metadata": {},
   "source": [
    "## Задание 4"
   ]
  },
  {
   "cell_type": "code",
   "execution_count": null,
   "metadata": {},
   "outputs": [],
   "source": [
    "emails = ['test@gmail.com', 'xyz@test.in', 'test@ya.ru', 'xyz@mail.ru', 'xyz@ya.ru', 'xyz@gmail.com']\n",
    "dict_of_domains = count_domains(emails)\n",
    "for i in dict_of_domains:\n",
    "    print(f'{i}: {dict_of_domains[i]}')"
   ]
  }
 ],
 "metadata": {
  "kernelspec": {
   "display_name": "Python 3",
   "language": "python",
   "name": "python3"
  },
  "language_info": {
   "codemirror_mode": {
    "name": "ipython",
    "version": 3
   },
   "file_extension": ".py",
   "mimetype": "text/x-python",
   "name": "python",
   "nbconvert_exporter": "python",
   "pygments_lexer": "ipython3",
   "version": "3.8.5"
  }
 },
 "nbformat": 4,
 "nbformat_minor": 4
}
